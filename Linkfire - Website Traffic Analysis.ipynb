{
 "cells": [
  {
   "cell_type": "markdown",
   "id": "d567cd5b-ca28-4446-a232-32b451e833e4",
   "metadata": {},
   "source": [
    "***\n",
    "# Analysis of Website Traffic To Develop Ideas On How To Increase The Links' Clickrates\n",
    "***"
   ]
  },
  {
   "cell_type": "markdown",
   "id": "e4d509f7-766b-4ae8-b525-f5c49ef7e88f",
   "metadata": {},
   "source": [
    "In this project, The client has provided the data set (traffic.csv) which contains web traffic data (\"**events**\") from a few different pages (\"**links**\") over a period of 7 days including various categorical dimensions about the geographic origin of that traffic as well as a page's content: **isrc**. The client wants to understand the traffic better, in particular the volume and distribution of events, and to develop ideas how to increase the links' clickrates. We are tasked with analyzing the data using Python libraries to develop ideas on how to increase the links' clickrates."
   ]
  },
  {
   "cell_type": "markdown",
   "id": "9607d3b3-7b0b-469e-aca4-af4b08836f31",
   "metadata": {},
   "source": [
    "***\n",
    "#### We Start By Importing The Necessary Libraries, Importing And Inspecitng The Data.\n",
    "***"
   ]
  },
  {
   "cell_type": "markdown",
   "id": "e2759469-50b7-46cc-874d-0ea25a462009",
   "metadata": {},
   "source": [
    "Import the necessary libraries."
   ]
  },
  {
   "cell_type": "code",
   "execution_count": 2,
   "id": "b6fc6fcb-0640-4a1e-a9e9-5d5142395981",
   "metadata": {},
   "outputs": [],
   "source": [
    "# Import libraries\n",
    "import pandas as pd\n",
    "from scipy.stats import pearsonr"
   ]
  },
  {
   "cell_type": "markdown",
   "id": "98da2f92-12e3-488c-854a-9aa845e3896b",
   "metadata": {},
   "source": [
    "Next we load the dataset provided by the client to understand its structure. We'll inspect the first few rows to see what columns are available and their respective data types."
   ]
  },
  {
   "cell_type": "code",
   "execution_count": 3,
   "id": "56d7dc0e-684d-46f5-97f3-6d161c7baec5",
   "metadata": {},
   "outputs": [
    {
     "data": {
      "text/html": [
       "<div>\n",
       "<style scoped>\n",
       "    .dataframe tbody tr th:only-of-type {\n",
       "        vertical-align: middle;\n",
       "    }\n",
       "\n",
       "    .dataframe tbody tr th {\n",
       "        vertical-align: top;\n",
       "    }\n",
       "\n",
       "    .dataframe thead th {\n",
       "        text-align: right;\n",
       "    }\n",
       "</style>\n",
       "<table border=\"1\" class=\"dataframe\">\n",
       "  <thead>\n",
       "    <tr style=\"text-align: right;\">\n",
       "      <th></th>\n",
       "      <th>event</th>\n",
       "      <th>date</th>\n",
       "      <th>country</th>\n",
       "      <th>city</th>\n",
       "      <th>artist</th>\n",
       "      <th>album</th>\n",
       "      <th>track</th>\n",
       "      <th>isrc</th>\n",
       "      <th>linkid</th>\n",
       "    </tr>\n",
       "  </thead>\n",
       "  <tbody>\n",
       "    <tr>\n",
       "      <th>0</th>\n",
       "      <td>click</td>\n",
       "      <td>2021-08-21</td>\n",
       "      <td>Saudi Arabia</td>\n",
       "      <td>Jeddah</td>\n",
       "      <td>Tesher</td>\n",
       "      <td>Jalebi Baby</td>\n",
       "      <td>Jalebi Baby</td>\n",
       "      <td>QZNWQ2070741</td>\n",
       "      <td>2d896d31-97b6-4869-967b-1c5fb9cd4bb8</td>\n",
       "    </tr>\n",
       "    <tr>\n",
       "      <th>1</th>\n",
       "      <td>click</td>\n",
       "      <td>2021-08-21</td>\n",
       "      <td>Saudi Arabia</td>\n",
       "      <td>Jeddah</td>\n",
       "      <td>Tesher</td>\n",
       "      <td>Jalebi Baby</td>\n",
       "      <td>Jalebi Baby</td>\n",
       "      <td>QZNWQ2070741</td>\n",
       "      <td>2d896d31-97b6-4869-967b-1c5fb9cd4bb8</td>\n",
       "    </tr>\n",
       "    <tr>\n",
       "      <th>2</th>\n",
       "      <td>click</td>\n",
       "      <td>2021-08-21</td>\n",
       "      <td>India</td>\n",
       "      <td>Ludhiana</td>\n",
       "      <td>Reyanna Maria</td>\n",
       "      <td>So Pretty</td>\n",
       "      <td>So Pretty</td>\n",
       "      <td>USUM72100871</td>\n",
       "      <td>23199824-9cf5-4b98-942a-34965c3b0cc2</td>\n",
       "    </tr>\n",
       "    <tr>\n",
       "      <th>3</th>\n",
       "      <td>click</td>\n",
       "      <td>2021-08-21</td>\n",
       "      <td>France</td>\n",
       "      <td>Unknown</td>\n",
       "      <td>Simone &amp; Simaria, Sebastian Yatra</td>\n",
       "      <td>No Llores Más</td>\n",
       "      <td>No Llores Más</td>\n",
       "      <td>BRUM72003904</td>\n",
       "      <td>35573248-4e49-47c7-af80-08a960fa74cd</td>\n",
       "    </tr>\n",
       "    <tr>\n",
       "      <th>4</th>\n",
       "      <td>click</td>\n",
       "      <td>2021-08-21</td>\n",
       "      <td>Maldives</td>\n",
       "      <td>Malé</td>\n",
       "      <td>Tesher</td>\n",
       "      <td>Jalebi Baby</td>\n",
       "      <td>Jalebi Baby</td>\n",
       "      <td>QZNWQ2070741</td>\n",
       "      <td>2d896d31-97b6-4869-967b-1c5fb9cd4bb8</td>\n",
       "    </tr>\n",
       "  </tbody>\n",
       "</table>\n",
       "</div>"
      ],
      "text/plain": [
       "   event        date       country      city  \\\n",
       "0  click  2021-08-21  Saudi Arabia    Jeddah   \n",
       "1  click  2021-08-21  Saudi Arabia    Jeddah   \n",
       "2  click  2021-08-21         India  Ludhiana   \n",
       "3  click  2021-08-21        France   Unknown   \n",
       "4  click  2021-08-21      Maldives      Malé   \n",
       "\n",
       "                              artist          album          track  \\\n",
       "0                             Tesher    Jalebi Baby    Jalebi Baby   \n",
       "1                             Tesher    Jalebi Baby    Jalebi Baby   \n",
       "2                      Reyanna Maria      So Pretty      So Pretty   \n",
       "3  Simone & Simaria, Sebastian Yatra  No Llores Más  No Llores Más   \n",
       "4                             Tesher    Jalebi Baby    Jalebi Baby   \n",
       "\n",
       "           isrc                                linkid  \n",
       "0  QZNWQ2070741  2d896d31-97b6-4869-967b-1c5fb9cd4bb8  \n",
       "1  QZNWQ2070741  2d896d31-97b6-4869-967b-1c5fb9cd4bb8  \n",
       "2  USUM72100871  23199824-9cf5-4b98-942a-34965c3b0cc2  \n",
       "3  BRUM72003904  35573248-4e49-47c7-af80-08a960fa74cd  \n",
       "4  QZNWQ2070741  2d896d31-97b6-4869-967b-1c5fb9cd4bb8  "
      ]
     },
     "execution_count": 3,
     "metadata": {},
     "output_type": "execute_result"
    }
   ],
   "source": [
    "# Load the dataset\n",
    "file_path = 'traffic.csv'\n",
    "data = pd.read_csv(file_path)\n",
    "\n",
    "# Display the firest few rows to understand the structure\n",
    "data.head()"
   ]
  },
  {
   "cell_type": "markdown",
   "id": "116bed54-5c41-4ae2-bb97-2b9cba00b4c7",
   "metadata": {},
   "source": [
    "***\n",
    "#### Total Pageview Events and Pageviews Per Day.\n",
    "***"
   ]
  },
  {
   "cell_type": "markdown",
   "id": "d209cbe8-3a29-47de-918e-08a499c05936",
   "metadata": {},
   "source": [
    "We need to filter the data for pageview events, count the total number of these events, and then group them by date to count the number of pageviews per day."
   ]
  },
  {
   "cell_type": "code",
   "execution_count": 21,
   "id": "1412d2b0-63b7-4ee4-a6ae-417ee3094c38",
   "metadata": {},
   "outputs": [
    {
     "data": {
      "text/plain": [
       "142015"
      ]
     },
     "execution_count": 21,
     "metadata": {},
     "output_type": "execute_result"
    }
   ],
   "source": [
    "# Filter for pageview events\n",
    "pageview_events = data[data['event'] == 'pageview']\n",
    "\n",
    "# Calculate the total number of pageview events\n",
    "total_pageviews = pageview_events.shape[0]\n",
    "\n",
    "# Calculate the number of pageviews per day\n",
    "pageviews_per_day = pageview_events.groupby('date').size().reset_index(name = 'pageviews')\n",
    "\n",
    "total_pageviews"
   ]
  },
  {
   "cell_type": "markdown",
   "id": "99a10a85-596a-4845-a924-709c43e2cebf",
   "metadata": {},
   "source": [
    "The total number of pageview events recorded in the dataset is: **142015**"
   ]
  },
  {
   "cell_type": "markdown",
   "id": "cd1a3038-8c10-4d05-912d-2fca458b6857",
   "metadata": {},
   "source": [
    "The pageviews per day is shown below"
   ]
  },
  {
   "cell_type": "code",
   "execution_count": 19,
   "id": "5d06a94b-9d6e-4cea-bcd6-93c4df407397",
   "metadata": {},
   "outputs": [
    {
     "data": {
      "text/html": [
       "<div>\n",
       "<style scoped>\n",
       "    .dataframe tbody tr th:only-of-type {\n",
       "        vertical-align: middle;\n",
       "    }\n",
       "\n",
       "    .dataframe tbody tr th {\n",
       "        vertical-align: top;\n",
       "    }\n",
       "\n",
       "    .dataframe thead th {\n",
       "        text-align: right;\n",
       "    }\n",
       "</style>\n",
       "<table border=\"1\" class=\"dataframe\">\n",
       "  <thead>\n",
       "    <tr style=\"text-align: right;\">\n",
       "      <th></th>\n",
       "      <th>date</th>\n",
       "      <th>pageviews</th>\n",
       "    </tr>\n",
       "  </thead>\n",
       "  <tbody>\n",
       "    <tr>\n",
       "      <th>0</th>\n",
       "      <td>2021-08-19</td>\n",
       "      <td>22366</td>\n",
       "    </tr>\n",
       "    <tr>\n",
       "      <th>1</th>\n",
       "      <td>2021-08-20</td>\n",
       "      <td>21382</td>\n",
       "    </tr>\n",
       "    <tr>\n",
       "      <th>2</th>\n",
       "      <td>2021-08-21</td>\n",
       "      <td>21349</td>\n",
       "    </tr>\n",
       "    <tr>\n",
       "      <th>3</th>\n",
       "      <td>2021-08-22</td>\n",
       "      <td>20430</td>\n",
       "    </tr>\n",
       "    <tr>\n",
       "      <th>4</th>\n",
       "      <td>2021-08-23</td>\n",
       "      <td>18646</td>\n",
       "    </tr>\n",
       "    <tr>\n",
       "      <th>5</th>\n",
       "      <td>2021-08-24</td>\n",
       "      <td>18693</td>\n",
       "    </tr>\n",
       "    <tr>\n",
       "      <th>6</th>\n",
       "      <td>2021-08-25</td>\n",
       "      <td>19149</td>\n",
       "    </tr>\n",
       "  </tbody>\n",
       "</table>\n",
       "</div>"
      ],
      "text/plain": [
       "         date  pageviews\n",
       "0  2021-08-19      22366\n",
       "1  2021-08-20      21382\n",
       "2  2021-08-21      21349\n",
       "3  2021-08-22      20430\n",
       "4  2021-08-23      18646\n",
       "5  2021-08-24      18693\n",
       "6  2021-08-25      19149"
      ]
     },
     "execution_count": 19,
     "metadata": {},
     "output_type": "execute_result"
    }
   ],
   "source": [
    "pageviews_per_day"
   ]
  },
  {
   "cell_type": "markdown",
   "id": "e013e208-e400-4ebb-8d35-b9c906cef87e",
   "metadata": {},
   "source": [
    "***\n",
    "#### Totals For Other Recorded Events.\n",
    "***"
   ]
  },
  {
   "cell_type": "markdown",
   "id": "ebb4e969-d36c-40ef-b143-068d720746b9",
   "metadata": {},
   "source": [
    "We'll now calculate the total number of each event in the dataset to see how they compare in volume. We will group the event type and count the occurrences."
   ]
  },
  {
   "cell_type": "code",
   "execution_count": 15,
   "id": "817d4922-d6a2-40f3-80e8-309dccb158e9",
   "metadata": {},
   "outputs": [],
   "source": [
    "# Count the total number of each type of event\n",
    "event_counts = data.groupby('event').size().reset_index(name = 'count')"
   ]
  },
  {
   "cell_type": "markdown",
   "id": "29783d29-1107-4f65-88c8-5c560428390c",
   "metadata": {},
   "source": [
    "The dataset contains three types of events: `click`, `pageview`, and `preview`. Below are the total counts for each:"
   ]
  },
  {
   "cell_type": "code",
   "execution_count": 16,
   "id": "2faa2c5f-c9e1-44b7-9b8b-d49f7beadfcc",
   "metadata": {},
   "outputs": [
    {
     "data": {
      "text/html": [
       "<div>\n",
       "<style scoped>\n",
       "    .dataframe tbody tr th:only-of-type {\n",
       "        vertical-align: middle;\n",
       "    }\n",
       "\n",
       "    .dataframe tbody tr th {\n",
       "        vertical-align: top;\n",
       "    }\n",
       "\n",
       "    .dataframe thead th {\n",
       "        text-align: right;\n",
       "    }\n",
       "</style>\n",
       "<table border=\"1\" class=\"dataframe\">\n",
       "  <thead>\n",
       "    <tr style=\"text-align: right;\">\n",
       "      <th></th>\n",
       "      <th>event</th>\n",
       "      <th>count</th>\n",
       "    </tr>\n",
       "  </thead>\n",
       "  <tbody>\n",
       "    <tr>\n",
       "      <th>0</th>\n",
       "      <td>click</td>\n",
       "      <td>55732</td>\n",
       "    </tr>\n",
       "    <tr>\n",
       "      <th>1</th>\n",
       "      <td>pageview</td>\n",
       "      <td>142015</td>\n",
       "    </tr>\n",
       "    <tr>\n",
       "      <th>2</th>\n",
       "      <td>preview</td>\n",
       "      <td>28531</td>\n",
       "    </tr>\n",
       "  </tbody>\n",
       "</table>\n",
       "</div>"
      ],
      "text/plain": [
       "      event   count\n",
       "0     click   55732\n",
       "1  pageview  142015\n",
       "2   preview   28531"
      ]
     },
     "execution_count": 16,
     "metadata": {},
     "output_type": "execute_result"
    }
   ],
   "source": [
    "event_counts"
   ]
  },
  {
   "cell_type": "markdown",
   "id": "95a60875-98a4-408f-bc35-297d7e896ff9",
   "metadata": {},
   "source": [
    "***\n",
    "#### Identifying Countries From Which Pageviews Originated And Sorting For The Top 10 Countries With The Highest Number Of Pageviews.\n",
    "***"
   ]
  },
  {
   "cell_type": "markdown",
   "id": "9e6caf90-4745-4aef-8ea4-bd8fedd73dfb",
   "metadata": {},
   "source": [
    "To determine which countries the pageviews originated from, we'll filter the data for pageview events and then group by the `country` to count the number of pageviews per country."
   ]
  },
  {
   "cell_type": "code",
   "execution_count": 24,
   "id": "be302e71-78d2-4feb-b0a9-6ad2c29e6410",
   "metadata": {},
   "outputs": [
    {
     "data": {
      "text/html": [
       "<div>\n",
       "<style scoped>\n",
       "    .dataframe tbody tr th:only-of-type {\n",
       "        vertical-align: middle;\n",
       "    }\n",
       "\n",
       "    .dataframe tbody tr th {\n",
       "        vertical-align: top;\n",
       "    }\n",
       "\n",
       "    .dataframe thead th {\n",
       "        text-align: right;\n",
       "    }\n",
       "</style>\n",
       "<table border=\"1\" class=\"dataframe\">\n",
       "  <thead>\n",
       "    <tr style=\"text-align: right;\">\n",
       "      <th></th>\n",
       "      <th>country</th>\n",
       "      <th>pageviews</th>\n",
       "    </tr>\n",
       "  </thead>\n",
       "  <tbody>\n",
       "    <tr>\n",
       "      <th>166</th>\n",
       "      <td>Saudi Arabia</td>\n",
       "      <td>28873</td>\n",
       "    </tr>\n",
       "    <tr>\n",
       "      <th>88</th>\n",
       "      <td>India</td>\n",
       "      <td>27286</td>\n",
       "    </tr>\n",
       "    <tr>\n",
       "      <th>201</th>\n",
       "      <td>United States</td>\n",
       "      <td>20839</td>\n",
       "    </tr>\n",
       "    <tr>\n",
       "      <th>65</th>\n",
       "      <td>France</td>\n",
       "      <td>9674</td>\n",
       "    </tr>\n",
       "    <tr>\n",
       "      <th>91</th>\n",
       "      <td>Iraq</td>\n",
       "      <td>4897</td>\n",
       "    </tr>\n",
       "    <tr>\n",
       "      <th>200</th>\n",
       "      <td>United Kingdom</td>\n",
       "      <td>3845</td>\n",
       "    </tr>\n",
       "    <tr>\n",
       "      <th>145</th>\n",
       "      <td>Pakistan</td>\n",
       "      <td>3212</td>\n",
       "    </tr>\n",
       "    <tr>\n",
       "      <th>71</th>\n",
       "      <td>Germany</td>\n",
       "      <td>3141</td>\n",
       "    </tr>\n",
       "    <tr>\n",
       "      <th>194</th>\n",
       "      <td>Turkey</td>\n",
       "      <td>2462</td>\n",
       "    </tr>\n",
       "    <tr>\n",
       "      <th>199</th>\n",
       "      <td>United Arab Emirates</td>\n",
       "      <td>2335</td>\n",
       "    </tr>\n",
       "  </tbody>\n",
       "</table>\n",
       "</div>"
      ],
      "text/plain": [
       "                  country  pageviews\n",
       "166          Saudi Arabia      28873\n",
       "88                  India      27286\n",
       "201         United States      20839\n",
       "65                 France       9674\n",
       "91                   Iraq       4897\n",
       "200        United Kingdom       3845\n",
       "145              Pakistan       3212\n",
       "71                Germany       3141\n",
       "194                Turkey       2462\n",
       "199  United Arab Emirates       2335"
      ]
     },
     "execution_count": 24,
     "metadata": {},
     "output_type": "execute_result"
    }
   ],
   "source": [
    "# Filter for pageview countries\n",
    "pageview_countries = pageview_events.groupby('country').size().reset_index(name = 'pageviews')\n",
    "\n",
    "# Sort by pageviews in descending order to see the top countries\n",
    "pageview_countries_sorted = pageview_countries.sort_values(by = 'pageviews', ascending = False)\n",
    "\n",
    "# Display the top 10 countries\n",
    "pageview_countries_sorted.head(10)"
   ]
  },
  {
   "cell_type": "markdown",
   "id": "b339aeb0-8958-4837-ac9b-0cec72c48913",
   "metadata": {},
   "source": [
    "***\n",
    "#### The Overall Click Rate.\n",
    "***"
   ]
  },
  {
   "cell_type": "markdown",
   "id": "29f60998-9aea-4427-8855-090eba7c62e6",
   "metadata": {},
   "source": [
    "The overall click rate is calculated as the ratio of the total number of clicks to the total number of pageviews."
   ]
  },
  {
   "cell_type": "code",
   "execution_count": 26,
   "id": "59c3607a-e858-476c-b36f-75b3ed0e27cb",
   "metadata": {},
   "outputs": [
    {
     "data": {
      "text/plain": [
       "0.3924374185825441"
      ]
     },
     "execution_count": 26,
     "metadata": {},
     "output_type": "execute_result"
    }
   ],
   "source": [
    "# Calculate the overall click rate\n",
    "total_clicks = data[data['event'] == 'click'].shape[0]\n",
    "click_rate = total_clicks / total_pageviews\n",
    "\n",
    "click_rate"
   ]
  },
  {
   "cell_type": "markdown",
   "id": "d5c29b5d-816b-4e5d-884d-2ce58c8e0ae0",
   "metadata": {},
   "source": [
    "The overall click rate is approximately **0.39** or 39%. This means that about 39% of the pageviews resulted in a click."
   ]
  },
  {
   "cell_type": "code",
   "execution_count": 8,
   "id": "e876a2c9-f72f-4a42-bba7-eeeadbb6def1",
   "metadata": {},
   "outputs": [
    {
     "data": {
      "text/html": [
       "<div>\n",
       "<style scoped>\n",
       "    .dataframe tbody tr th:only-of-type {\n",
       "        vertical-align: middle;\n",
       "    }\n",
       "\n",
       "    .dataframe tbody tr th {\n",
       "        vertical-align: top;\n",
       "    }\n",
       "\n",
       "    .dataframe thead th {\n",
       "        text-align: right;\n",
       "    }\n",
       "</style>\n",
       "<table border=\"1\" class=\"dataframe\">\n",
       "  <thead>\n",
       "    <tr style=\"text-align: right;\">\n",
       "      <th></th>\n",
       "      <th>event</th>\n",
       "      <th>date</th>\n",
       "      <th>country</th>\n",
       "      <th>city</th>\n",
       "      <th>artist</th>\n",
       "      <th>album</th>\n",
       "      <th>track</th>\n",
       "      <th>isrc</th>\n",
       "      <th>linkid</th>\n",
       "    </tr>\n",
       "  </thead>\n",
       "  <tbody>\n",
       "    <tr>\n",
       "      <th>0</th>\n",
       "      <td>click</td>\n",
       "      <td>2021-08-21</td>\n",
       "      <td>Saudi Arabia</td>\n",
       "      <td>Jeddah</td>\n",
       "      <td>Tesher</td>\n",
       "      <td>Jalebi Baby</td>\n",
       "      <td>Jalebi Baby</td>\n",
       "      <td>QZNWQ2070741</td>\n",
       "      <td>2d896d31-97b6-4869-967b-1c5fb9cd4bb8</td>\n",
       "    </tr>\n",
       "    <tr>\n",
       "      <th>1</th>\n",
       "      <td>click</td>\n",
       "      <td>2021-08-21</td>\n",
       "      <td>Saudi Arabia</td>\n",
       "      <td>Jeddah</td>\n",
       "      <td>Tesher</td>\n",
       "      <td>Jalebi Baby</td>\n",
       "      <td>Jalebi Baby</td>\n",
       "      <td>QZNWQ2070741</td>\n",
       "      <td>2d896d31-97b6-4869-967b-1c5fb9cd4bb8</td>\n",
       "    </tr>\n",
       "  </tbody>\n",
       "</table>\n",
       "</div>"
      ],
      "text/plain": [
       "   event        date       country    city  artist        album        track  \\\n",
       "0  click  2021-08-21  Saudi Arabia  Jeddah  Tesher  Jalebi Baby  Jalebi Baby   \n",
       "1  click  2021-08-21  Saudi Arabia  Jeddah  Tesher  Jalebi Baby  Jalebi Baby   \n",
       "\n",
       "           isrc                                linkid  \n",
       "0  QZNWQ2070741  2d896d31-97b6-4869-967b-1c5fb9cd4bb8  \n",
       "1  QZNWQ2070741  2d896d31-97b6-4869-967b-1c5fb9cd4bb8  "
      ]
     },
     "execution_count": 8,
     "metadata": {},
     "output_type": "execute_result"
    }
   ],
   "source": [
    "data.head(2)"
   ]
  },
  {
   "cell_type": "markdown",
   "id": "7e1e6bad-896e-4734-9c93-262e4c4bdafd",
   "metadata": {},
   "source": [
    "***\n",
    "#### Analyze The Clickrate Distribution Across Different Links.\n",
    "***"
   ]
  },
  {
   "cell_type": "code",
   "execution_count": 33,
   "id": "0c2bffe2-0864-4263-99b8-4a11520ceacf",
   "metadata": {},
   "outputs": [
    {
     "data": {
      "text/html": [
       "<div>\n",
       "<style scoped>\n",
       "    .dataframe tbody tr th:only-of-type {\n",
       "        vertical-align: middle;\n",
       "    }\n",
       "\n",
       "    .dataframe tbody tr th {\n",
       "        vertical-align: top;\n",
       "    }\n",
       "\n",
       "    .dataframe thead th {\n",
       "        text-align: right;\n",
       "    }\n",
       "</style>\n",
       "<table border=\"1\" class=\"dataframe\">\n",
       "  <thead>\n",
       "    <tr style=\"text-align: right;\">\n",
       "      <th>event</th>\n",
       "      <th>linkid</th>\n",
       "      <th>click</th>\n",
       "      <th>pageview</th>\n",
       "      <th>preview</th>\n",
       "      <th>click_rate</th>\n",
       "    </tr>\n",
       "  </thead>\n",
       "  <tbody>\n",
       "    <tr>\n",
       "      <th>1280</th>\n",
       "      <td>54166799-1895-4f35-9b2f-b249c2f7a351</td>\n",
       "      <td>1</td>\n",
       "      <td>0</td>\n",
       "      <td>0</td>\n",
       "      <td>inf</td>\n",
       "    </tr>\n",
       "    <tr>\n",
       "      <th>2669</th>\n",
       "      <td>aee2b83d-5f50-4309-9e62-200c404d4751</td>\n",
       "      <td>1</td>\n",
       "      <td>0</td>\n",
       "      <td>0</td>\n",
       "      <td>inf</td>\n",
       "    </tr>\n",
       "    <tr>\n",
       "      <th>3029</th>\n",
       "      <td>c95f1fc1-fab0-4c74-b3f5-52bd3684a713</td>\n",
       "      <td>923</td>\n",
       "      <td>10</td>\n",
       "      <td>0</td>\n",
       "      <td>92.3</td>\n",
       "    </tr>\n",
       "    <tr>\n",
       "      <th>614</th>\n",
       "      <td>27a91fe1-9fc0-5c28-9e9e-19ff0e7357a7</td>\n",
       "      <td>3</td>\n",
       "      <td>1</td>\n",
       "      <td>0</td>\n",
       "      <td>3.0</td>\n",
       "    </tr>\n",
       "    <tr>\n",
       "      <th>792</th>\n",
       "      <td>330773a6-f22a-5c7a-a3e4-7809fe8539b9</td>\n",
       "      <td>3</td>\n",
       "      <td>1</td>\n",
       "      <td>0</td>\n",
       "      <td>3.0</td>\n",
       "    </tr>\n",
       "    <tr>\n",
       "      <th>932</th>\n",
       "      <td>3d0e78ec-d580-49a0-ae97-2e11992c411a</td>\n",
       "      <td>2</td>\n",
       "      <td>1</td>\n",
       "      <td>0</td>\n",
       "      <td>2.0</td>\n",
       "    </tr>\n",
       "    <tr>\n",
       "      <th>3100</th>\n",
       "      <td>ce1b3b95-7acd-5adb-a30c-bc0483369c7c</td>\n",
       "      <td>2</td>\n",
       "      <td>1</td>\n",
       "      <td>0</td>\n",
       "      <td>2.0</td>\n",
       "    </tr>\n",
       "    <tr>\n",
       "      <th>1051</th>\n",
       "      <td>443e9e83-0c42-50e6-b3a6-06fc264d6144</td>\n",
       "      <td>2</td>\n",
       "      <td>1</td>\n",
       "      <td>0</td>\n",
       "      <td>2.0</td>\n",
       "    </tr>\n",
       "    <tr>\n",
       "      <th>3003</th>\n",
       "      <td>c722cabc-3e9b-5ab5-9243-c0dc23524e42</td>\n",
       "      <td>2</td>\n",
       "      <td>1</td>\n",
       "      <td>0</td>\n",
       "      <td>2.0</td>\n",
       "    </tr>\n",
       "    <tr>\n",
       "      <th>2463</th>\n",
       "      <td>a0f03518-1d88-56ab-a808-24c3b6bf7661</td>\n",
       "      <td>2</td>\n",
       "      <td>1</td>\n",
       "      <td>0</td>\n",
       "      <td>2.0</td>\n",
       "    </tr>\n",
       "  </tbody>\n",
       "</table>\n",
       "</div>"
      ],
      "text/plain": [
       "event                                linkid  click  pageview  preview  \\\n",
       "1280   54166799-1895-4f35-9b2f-b249c2f7a351      1         0        0   \n",
       "2669   aee2b83d-5f50-4309-9e62-200c404d4751      1         0        0   \n",
       "3029   c95f1fc1-fab0-4c74-b3f5-52bd3684a713    923        10        0   \n",
       "614    27a91fe1-9fc0-5c28-9e9e-19ff0e7357a7      3         1        0   \n",
       "792    330773a6-f22a-5c7a-a3e4-7809fe8539b9      3         1        0   \n",
       "932    3d0e78ec-d580-49a0-ae97-2e11992c411a      2         1        0   \n",
       "3100   ce1b3b95-7acd-5adb-a30c-bc0483369c7c      2         1        0   \n",
       "1051   443e9e83-0c42-50e6-b3a6-06fc264d6144      2         1        0   \n",
       "3003   c722cabc-3e9b-5ab5-9243-c0dc23524e42      2         1        0   \n",
       "2463   a0f03518-1d88-56ab-a808-24c3b6bf7661      2         1        0   \n",
       "\n",
       "event  click_rate  \n",
       "1280          inf  \n",
       "2669          inf  \n",
       "3029         92.3  \n",
       "614           3.0  \n",
       "792           3.0  \n",
       "932           2.0  \n",
       "3100          2.0  \n",
       "1051          2.0  \n",
       "3003          2.0  \n",
       "2463          2.0  "
      ]
     },
     "execution_count": 33,
     "metadata": {},
     "output_type": "execute_result"
    }
   ],
   "source": [
    "# Group by linkid and calculate the total pageviews and clicks for each link\n",
    "link_grouped = data.groupby(['linkid', 'event']).size().unstack(fill_value = 0)\n",
    "\n",
    "# Calculate click rate for each link\n",
    "link_grouped['click_rate'] = link_grouped['click'] / link_grouped['pageview']\n",
    "link_grouped = link_grouped.reset_index()\n",
    "\n",
    "# Sort by click rate in descending order\n",
    "link_grouped_sorted = link_grouped.sort_values(by = 'click_rate', ascending = False)\n",
    "\n",
    "# Display the top 10 links by click rate\n",
    "link_grouped_sorted.head(10)"
   ]
  },
  {
   "cell_type": "markdown",
   "id": "fe31c95a-5314-40b6-8e68-899ddb1a5b61",
   "metadata": {},
   "source": [
    "The click rate varies significantly across different links. Some links have very high click rates, and a few even haave a cick rate of  of infinity `inf`, which occurs when there are clicks recorded but no pageviews (likely due to data collection errors). Below is a breakdown of some of the highest click rates:\n",
    "\n",
    "* Link with ID `c95f1fc1-fab0-4c74-b3f5-52bd3684a713` has a click rate of **92.3** (923 clicks out of 10 pageviews).\n",
    "* Other links have click rates of **2.0** to **3.0**, which indicates that for every pageview, there are 2 to 3 clicks."
   ]
  },
  {
   "cell_type": "markdown",
   "id": "f7aee231-1deb-4f26-b585-23aaee8c901a",
   "metadata": {},
   "source": [
    "***\n",
    "#### Test For Correlation Between Clicks And Previews.\n",
    "***"
   ]
  },
  {
   "cell_type": "markdown",
   "id": "5aba7119-d1c4-435c-9362-8d4d54eb52b4",
   "metadata": {},
   "source": [
    "To determine if there's a correlation between the number of clicks and previews, we'll use the Pearson correlation coefficient. This will help us understand whether there's a linear relationship between these two variables."
   ]
  },
  {
   "cell_type": "code",
   "execution_count": 35,
   "id": "5655440e-e722-4549-8816-88619aa25309",
   "metadata": {},
   "outputs": [
    {
     "data": {
      "text/plain": [
       "(0.9886586147026568, 0.0)"
      ]
     },
     "execution_count": 35,
     "metadata": {},
     "output_type": "execute_result"
    }
   ],
   "source": [
    "# Import libraries\n",
    "from scipy.stats import pearsonr\n",
    "\n",
    "# Filter out links with zero pageviews to avoid division by zero in the click rate calculation\n",
    "filtered_link_grouped = link_grouped[link_grouped['pageview'] > 0]\n",
    "\n",
    "# Calculate the correlation between clicks and previews\n",
    "correlation, p_value = pearsonr(filtered_link_grouped['click'], filtered_link_grouped['preview'])\n",
    "\n",
    "correlation, p_value"
   ]
  },
  {
   "cell_type": "markdown",
   "id": "65c56a4e-6b0b-45ab-8c91-9fed08d9a2d0",
   "metadata": {},
   "source": [
    "The Pearson correlation coefficient between the number of clicks and previews is 0.99, whith a p-value of 0.0. This indicates a very strong positive correlation between clicks and previews, suggesting that as the number of previews increases, the number of clicks also tends to increase. The p-value being essentially zero indicates that this correlation is statistically significant."
   ]
  },
  {
   "cell_type": "markdown",
   "id": "96ec4a24-6851-42c7-b50c-1c1f34693187",
   "metadata": {},
   "source": [
    "***\n",
    "#### Identifying The Countries With The Highest Click Rate.\n",
    "***"
   ]
  },
  {
   "cell_type": "markdown",
   "id": "af30c674-1fdc-4da7-925c-f45f6fe09448",
   "metadata": {},
   "source": [
    "To determine which countries had the highest click rate, we'll group the data by the `country` column, calculate the total number of pageviews and clicks for each country, and then compute the click rate. We'll then sort the results to find the countries with the highest click rates."
   ]
  },
  {
   "cell_type": "code",
   "execution_count": 37,
   "id": "44eb867a-7774-4626-8652-26ff9d8fbbf1",
   "metadata": {},
   "outputs": [
    {
     "data": {
      "text/html": [
       "<div>\n",
       "<style scoped>\n",
       "    .dataframe tbody tr th:only-of-type {\n",
       "        vertical-align: middle;\n",
       "    }\n",
       "\n",
       "    .dataframe tbody tr th {\n",
       "        vertical-align: top;\n",
       "    }\n",
       "\n",
       "    .dataframe thead th {\n",
       "        text-align: right;\n",
       "    }\n",
       "</style>\n",
       "<table border=\"1\" class=\"dataframe\">\n",
       "  <thead>\n",
       "    <tr style=\"text-align: right;\">\n",
       "      <th>event</th>\n",
       "      <th>country</th>\n",
       "      <th>click_rate</th>\n",
       "    </tr>\n",
       "  </thead>\n",
       "  <tbody>\n",
       "    <tr>\n",
       "      <th>90</th>\n",
       "      <td>Iran</td>\n",
       "      <td>1.500000</td>\n",
       "    </tr>\n",
       "    <tr>\n",
       "      <th>146</th>\n",
       "      <td>Palau</td>\n",
       "      <td>1.000000</td>\n",
       "    </tr>\n",
       "    <tr>\n",
       "      <th>206</th>\n",
       "      <td>Wallis and Futuna</td>\n",
       "      <td>1.000000</td>\n",
       "    </tr>\n",
       "    <tr>\n",
       "      <th>175</th>\n",
       "      <td>Solomon Islands</td>\n",
       "      <td>1.000000</td>\n",
       "    </tr>\n",
       "    <tr>\n",
       "      <th>38</th>\n",
       "      <td>Central African Republic</td>\n",
       "      <td>1.000000</td>\n",
       "    </tr>\n",
       "    <tr>\n",
       "      <th>155</th>\n",
       "      <td>Principality of Monaco</td>\n",
       "      <td>1.000000</td>\n",
       "    </tr>\n",
       "    <tr>\n",
       "      <th>79</th>\n",
       "      <td>Guernsey</td>\n",
       "      <td>1.000000</td>\n",
       "    </tr>\n",
       "    <tr>\n",
       "      <th>163</th>\n",
       "      <td>Saint Martin</td>\n",
       "      <td>1.000000</td>\n",
       "    </tr>\n",
       "    <tr>\n",
       "      <th>122</th>\n",
       "      <td>Marshall Islands</td>\n",
       "      <td>1.000000</td>\n",
       "    </tr>\n",
       "    <tr>\n",
       "      <th>110</th>\n",
       "      <td>Liberia</td>\n",
       "      <td>0.916667</td>\n",
       "    </tr>\n",
       "  </tbody>\n",
       "</table>\n",
       "</div>"
      ],
      "text/plain": [
       "event                   country  click_rate\n",
       "90                         Iran    1.500000\n",
       "146                       Palau    1.000000\n",
       "206           Wallis and Futuna    1.000000\n",
       "175             Solomon Islands    1.000000\n",
       "38     Central African Republic    1.000000\n",
       "155      Principality of Monaco    1.000000\n",
       "79                     Guernsey    1.000000\n",
       "163                Saint Martin    1.000000\n",
       "122            Marshall Islands    1.000000\n",
       "110                     Liberia    0.916667"
      ]
     },
     "execution_count": 37,
     "metadata": {},
     "output_type": "execute_result"
    }
   ],
   "source": [
    "# Group by country and calculate the total pageviews and clicks for each country\n",
    "country_grouped = data.groupby(['country', 'event']).size().unstack(fill_value = 0)\n",
    "\n",
    "# Calculate click rate for each country\n",
    "country_grouped['click_rate'] = country_grouped['click'] / country_grouped['pageview']\n",
    "country_grouped = country_grouped.reset_index()\n",
    "\n",
    "# Sort by click rate in descending order\n",
    "country_grouped_sorted = country_grouped.sort_values(by = 'click_rate', ascending = False)\n",
    "\n",
    "# display the top countries by click rate\n",
    "top_countries = country_grouped_sorted[['country', 'click_rate']].head(10)\n",
    "top_countries"
   ]
  },
  {
   "cell_type": "markdown",
   "id": "0aa7be1e-9054-40f7-9599-ddd09556e9d3",
   "metadata": {},
   "source": [
    "These insights suggest strong user engagement in these countries, making them potentially valuable targets for further marketing efforts or content optimization strategies."
   ]
  },
  {
   "cell_type": "markdown",
   "id": "b91ecc01-1736-497d-b31a-3a22c365bf12",
   "metadata": {},
   "source": [
    "***\n",
    "#### Visualizing Click Rates Over Time.\n",
    "***"
   ]
  },
  {
   "cell_type": "markdown",
   "id": "352333e8-cb99-4bc3-981b-0f42ec965dc7",
   "metadata": {},
   "source": [
    "To visualize how click rates change over time, we need to group the data by date, calculate the total clicks and pageviews for each day, and then compute the click rate for each day. Finally, we can plot these click rates over the time period to see trends or patterns."
   ]
  },
  {
   "cell_type": "code",
   "execution_count": 39,
   "id": "978d0f37-ae3d-46e6-9f26-f9e92b70788f",
   "metadata": {},
   "outputs": [
    {
     "data": {
      "image/png": "[encoded data removed]",
      "text/plain": [
       "<Figure size 720x432 with 1 Axes>"
      ]
     },
     "metadata": {
      "needs_background": "light"
     },
     "output_type": "display_data"
    }
   ],
   "source": [
    "# Import graphics libraries\n",
    "import matplotlib.pyplot as plt\n",
    "\n",
    "# Group by date and calculate the total pageviews and clicks for each day\n",
    "date_grouped = data.groupby(['date', 'event']).size().unstack(fill_value = 0)\n",
    "\n",
    "# Calculate click rate for each day\n",
    "date_grouped['click_rate'] = date_grouped['click'] / date_grouped['pageview']\n",
    "date_grouped = date_grouped.reset_index()\n",
    "\n",
    "# Plot theh click rates over time\n",
    "plt.figure(figsize = (10, 6))\n",
    "plt.plot(date_grouped['date'], date_grouped['click_rate'], marker = 'o', linestyle = '-', color = 'blue')\n",
    "plt.title('Click Rate Over Time')\n",
    "plt.xlabel('Date')\n",
    "plt.ylabel('Click Rate')\n",
    "plt.xticks(rotation = 45)\n",
    "plt.grid(True)\n",
    "plt.show()"
   ]
  },
  {
   "cell_type": "markdown",
   "id": "0e2658f9-d70b-4e08-b0b5-1da58d923bd7",
   "metadata": {},
   "source": [
    "***\n",
    "#### Click Rate Over Time.\n",
    "***"
   ]
  },
  {
   "cell_type": "markdown",
   "id": "93187a29-71b4-46e7-8499-d29b49bd5a21",
   "metadata": {},
   "source": [
    "The plot above shows how the click rate has changed over time across the days in the dataset:\n",
    "\n",
    "The click rate started around 0.41 on 2021-08-19 and showed a decreasing trend until 2021-08-21, where it dropped to around 0.38. After 2021-08-21, the click rate increased slightly, peaking again on 2021-08-23 at around 0.395 before stabilizing. This visualization helps us understand the fluctuations in user engagement over time. By analyzing what occurred on specific dates, such as marketing campaigns or content changes, we can correlate these events with changes in the click rate and adjust strategies accordingly."
   ]
  },
  {
   "cell_type": "markdown",
   "id": "542c31d7-7ec6-479a-b8dc-73f9497a9d1a",
   "metadata": {},
   "source": [
    "***\n",
    "#### Recommendations on how the client can increase click rate.\n",
    "***"
   ]
  },
  {
   "cell_type": "markdown",
   "id": "bf0a4d8e-b0e4-41c9-9183-dca036b54a69",
   "metadata": {},
   "source": [
    "Improving the click rate involves a combination of understanding user behavior, optimizing content, and refining the user experience. Here are several strategies to consider:"
   ]
  },
  {
   "cell_type": "markdown",
   "id": "36a007b8-410b-4e32-8b22-a5e75a0a0cbd",
   "metadata": {},
   "source": [
    "##### Optimize Content Placement and Design\n",
    "* Call-to-Action (CTA): Ensure that CTAs are clear, compelling, and strategically placed. Use action-oriented language like \"Discover Now\" or \"Learn More.\"\n",
    "* Link Visibility: Make sure the links are prominent and easy to find. Consider using contrasting colors, larger fonts, or buttons to draw attention.\n",
    "* Content Relevance: Ensure that the content surrounding the link is relevant to the user's needs or interests. The more aligned the content is with what users are looking for, the more likely they are to click."
   ]
  },
  {
   "cell_type": "markdown",
   "id": "7b652bb8-84bd-40f9-bc49-d916716b29bb",
   "metadata": {},
   "source": [
    "##### Improve Page Load Speed\n",
    "* Optimize Images and Media: Compress images and media files to reduce load times. Slow-loading pages can cause users to leave before clicking on links.\n",
    "* Minimize Redirects: Reduce the number of redirects to decrease load times."
   ]
  },
  {
   "cell_type": "markdown",
   "id": "c0b48413-e177-49e7-bd7e-4ec2499fe220",
   "metadata": {},
   "source": [
    "##### Target the Right Audience\n",
    "* Segmentation: Use data analytics to understand who is clicking on links and who isn’t. Tailor content and links to different audience segments to make them more relevant.\n",
    "* Geo-targeting: Since you know which countries drive the most pageviews, tailor your content or promotional efforts to cater to the preferences of these audiences."
   ]
  },
  {
   "cell_type": "markdown",
   "id": "0dbd459c-b1c8-4f57-a491-6174bca79a87",
   "metadata": {},
   "source": [
    "##### A/B Testing\n",
    "* Experiment with Variations: Test different versions of your pages, links, CTAs, and layouts. For example, change the wording, color, or placement of links to see what drives more clicks.\n",
    "* Ease of Use: Make sure that links are easy to tap on mobile devices, avoiding elements that are too small or close together."
   ]
  },
  {
   "cell_type": "markdown",
   "id": "cd3c2543-b7b2-43c3-b87a-3c0d3756c3f4",
   "metadata": {
    "jp-MarkdownHeadingCollapsed": true,
    "tags": []
   },
   "source": [
    "##### Increase Engagement Through Personalization\n",
    "* Dynamic Content: Use dynamic content to show different links to different users based on their behavior, preferences, or past interactions.\n",
    "* Recommendations: Recommend related content or products based on the user’s browsing history or profile data to increase relevance and likelihood of clicks."
   ]
  },
  {
   "cell_type": "markdown",
   "id": "73c6513e-26e3-4d43-87af-4d830d522573",
   "metadata": {},
   "source": [
    "##### Leverage Analytics for Continuous Improvement\n",
    "* Track User Behavior: Use analytics tools to track how users interact with your links. Understand the user journey and identify drop-off points where users might lose interest.\n",
    "* Heatmaps: Implement heatmaps to visualize where users are clicking most on your pages. This can help you place links in the areas that receive the most attention."
   ]
  },
  {
   "cell_type": "markdown",
   "id": "d0365056-9927-493c-b626-0cdf712a6f52",
   "metadata": {},
   "source": [
    "##### Provide Incentives\n",
    "* Exclusive Offers: Provide exclusive offers, discounts, or early access to encourage clicks. Make sure these incentives are prominently displayed and communicated.\n",
    "* Content Upgrades: Offer additional resources, such as downloadable content or guides, in exchange for clicks or other forms of engagement."
   ]
  },
  {
   "cell_type": "markdown",
   "id": "9335d74c-f808-4e5d-ae2a-3056d55b9879",
   "metadata": {},
   "source": [
    "##### Improve Content Quality\n",
    "* Engaging Headlines: Craft compelling and attention-grabbing headlines that make users want to click through to learn more.\n",
    "* High-Quality Visuals: Use engaging visuals, videos, or infographics that entice users to interact with the content."
   ]
  },
  {
   "cell_type": "markdown",
   "id": "04a36c8d-b560-4dc6-b0a1-4b60963483aa",
   "metadata": {},
   "source": [
    "##### Reduce Distractions\n",
    "* Minimalist Design: Simplify your page design to reduce distractions. A cluttered page can overwhelm users and decrease the likelihood of clicks.\n",
    "* Focused Content: Ensure that each page or section has a clear focus, guiding the user towards the desired action (clicking the link)."
   ]
  },
  {
   "cell_type": "markdown",
   "id": "0f24d20f-95af-4a96-a342-2977e4a1f559",
   "metadata": {},
   "source": [
    "By implementing these strategies, the client can effectively increase the click rate on the website links, leading to higher engagement and potentially more conversions."
   ]
  },
  {
   "cell_type": "markdown",
   "id": "593e9cdd-9e30-43a4-8b85-d72dc214f6f2",
   "metadata": {},
   "source": [
    "***\n",
    "#### Conclusion.\n",
    "***"
   ]
  },
  {
   "cell_type": "markdown",
   "id": "8f87938b-d9f1-4617-9a36-bec7aa962fb5",
   "metadata": {},
   "source": [
    "Through this analysis, we have:\n",
    "\n",
    "* Determined the total pageview events and their distribution across the days.\n",
    "* Analyzed the total counts for other events, including clicks and previews.\n",
    "* Identified the top countries from which pageviews originated.\n",
    "* Calculated the overall click rate and analyzed how it varies across different links.\n",
    "* Found a strong and significant correlation between the number of clicks and previews, suggesting a relationship between these variables.\n",
    "* Calculated the overall click rate and analyzed how it varies over time.\n",
    "\n",
    "These insights can help the client understand their web traffic better and develop strategies to improve link click rates by targeting content with high preview engagement or optimizing traffic sources from high-performing countries."
   ]
  }
 ],
 "metadata": {
  "kernelspec": {
   "display_name": "Python 3 (ipykernel)",
   "language": "python",
   "name": "python3"
  },
  "language_info": {
   "codemirror_mode": {
    "name": "ipython",
    "version": 3
   },
   "file_extension": ".py",
   "mimetype": "text/x-python",
   "name": "python",
   "nbconvert_exporter": "python",
   "pygments_lexer": "ipython3",
   "version": "3.8.13"
  }
 },
 "nbformat": 4,
 "nbformat_minor": 5
}
